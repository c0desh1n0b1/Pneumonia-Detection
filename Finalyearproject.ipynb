{
 "cells": [
  {
   "cell_type": "markdown",
   "metadata": {},
   "source": [
    "**Classification of XRays using Machine Learning**\n",
    "---\n",
    "My name is Teddy John Kamau Mbiri, a final year Computer Science student at University of West London. \n",
    "This is my final year project, the use of Machine Learning to classify X-rays, whether a patient has pneumonia, covid pneumonia or neither.\n"
   ]
  },
  {
   "cell_type": "markdown",
   "metadata": {},
   "source": [
    "**Data Exploration**\n",
    "---\n",
    "The section below will explore the data and the features of the dataset.\n",
    "I will be using data from multiple sources and previous work to create a model that can classify X-rays.\n",
    "\n",
    "**Data Source**\n",
    "1.\thttps://drive.google.com/drive/folders/128hxYxQ8kVEkSkVGikueiqBxWTmDIW2h\n",
    "2.\thttps://www.kaggle.com/paultimothymooney/chest-xray-pneumonia\n",
    "3.\thttps://www.kaggle.com/nikhilpandey360/chest-xray-masks-and-labels\n",
    "4.  https://data.mendeley.com/datasets/jctsfj2sfn/1\n",
    "5. https://www.rsna.org/education/ai-resources-and-training/ai-image-challenge/rsna-pneumonia-detection-challenge-2018\n",
    "\n"
   ]
  },
  {
   "cell_type": "code",
   "execution_count": 1,
   "metadata": {},
   "outputs": [],
   "source": [
    "#split the data into train and test and validation \n",
    "#import splitfolders\n",
    "#Library required for the splitfolders function\n",
    "#splitfolders.ratio(\"C:/Users/tedjo/Pictures/XRays\", output=\"C:/Users/tedjo/Pictures/XRays/SplitData\", seed=1337, ratio=(.8, .1, .1))\n",
    "#SplitData is the folder where the data will be stored"
   ]
  },
  {
   "cell_type": "code",
   "execution_count": null,
   "metadata": {},
   "outputs": [],
   "source": []
  }
 ],
 "metadata": {
  "interpreter": {
   "hash": "86950cef8f8303c4ef438f4f226af495051a6e995924ac874916034e6a736da2"
  },
  "kernelspec": {
   "display_name": "Python 3.9.7 ('base')",
   "language": "python",
   "name": "python3"
  },
  "language_info": {
   "codemirror_mode": {
    "name": "ipython",
    "version": 3
   },
   "file_extension": ".py",
   "mimetype": "text/x-python",
   "name": "python",
   "nbconvert_exporter": "python",
   "pygments_lexer": "ipython3",
   "version": "3.9.7"
  },
  "orig_nbformat": 4
 },
 "nbformat": 4,
 "nbformat_minor": 2
}
