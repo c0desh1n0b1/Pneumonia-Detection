{
 "cells": [
  {
   "cell_type": "markdown",
   "metadata": {},
   "source": [
    "**Classification of XRays using Machine Learning**\n",
    "---\n",
    "My name is Teddy John Kamau Mbiri, a final year Computer Science student at University of West London. \n",
    "This is my final year project, the use of Machine Learning to classify X-rays, whether a patient has pneumonia, covid pneumonia or neither.\n"
   ]
  },
  {
   "cell_type": "markdown",
   "metadata": {},
   "source": [
    "**Data Exploration**\n",
    "---\n",
    "The section below will explore the data and the features of the dataset.\n",
    "I will be using data from multiple sources and previous work to create a model that can classify X-rays.\n",
    "\n",
    "**Data Source**\n",
    "1.\thttps://drive.google.com/drive/folders/128hxYxQ8kVEkSkVGikueiqBxWTmDIW2h\n",
    "2.\thttps://www.kaggle.com/paultimothymooney/chest-xray-pneumonia\n",
    "3.\thttps://www.kaggle.com/nikhilpandey360/chest-xray-masks-and-labels\n",
    "4.  https://data.mendeley.com/datasets/jctsfj2sfn/1\n",
    "5. https://www.rsna.org/education/ai-resources-and-training/ai-image-challenge/rsna-pneumonia-detection-challenge-2018\n",
    "\n"
   ]
  },
  {
   "cell_type": "code",
   "execution_count": 1,
   "metadata": {},
   "outputs": [
    {
     "name": "stderr",
     "output_type": "stream",
     "text": [
      "Copying files: 45001 files [00:35, 1261.44 files/s]\n"
     ]
    }
   ],
   "source": [
    "#split the data into train and test and validation\n",
    "import splitfolders\n",
    "#Library required for the splitfolders function\n",
    "splitfolders.ratio(\"C:/Users/tedjo/Downloads/XRAY\", output=\"C:/Users/tedjo/Downloads/XRAY/SplitData\", seed=1337, ratio=(.8, .1, .1))\n",
    "#SplitData is the folder where the data will be stored"
   ]
  },
  {
   "cell_type": "code",
   "execution_count": 2,
   "metadata": {},
   "outputs": [],
   "source": [
    "#After the data is split and stored in the SplitData folder, the next step is to explore the data.\n",
    "#import required libraries and there functions within my code\n",
    "import pandas as pd #dataframe\n",
    "import numpy as np #numerical python\n",
    "import matplotlib.pyplot as plt #plotting \n",
    "import seaborn as sns #plotting\n",
    "import os #operating system\n",
    "from tensorflow.keras.preprocessing import image #image processing\n",
    "from PIL import Image #image processing\n"
   ]
  },
  {
   "cell_type": "code",
   "execution_count": 12,
   "metadata": {},
   "outputs": [
    {
     "name": "stdout",
     "output_type": "stream",
     "text": [
      "Collecting tensorflow-gpu==2.9.1\n",
      "  Downloading tensorflow_gpu-2.9.1-cp38-cp38-win_amd64.whl (444.1 MB)\n",
      "Requirement already satisfied: packaging in c:\\users\\tedjo\\anaconda3\\envs\\tensor_gpu\\lib\\site-packages (from tensorflow-gpu==2.9.1) (21.3)\n",
      "Requirement already satisfied: google-pasta>=0.1.1 in c:\\users\\tedjo\\anaconda3\\envs\\tensor_gpu\\lib\\site-packages (from tensorflow-gpu==2.9.1) (0.2.0)\n",
      "Requirement already satisfied: gast<=0.4.0,>=0.2.1 in c:\\users\\tedjo\\anaconda3\\envs\\tensor_gpu\\lib\\site-packages (from tensorflow-gpu==2.9.1) (0.4.0)\n",
      "Requirement already satisfied: typing-extensions>=3.6.6 in c:\\users\\tedjo\\anaconda3\\envs\\tensor_gpu\\lib\\site-packages (from tensorflow-gpu==2.9.1) (4.1.1)\n",
      "Requirement already satisfied: six>=1.12.0 in c:\\users\\tedjo\\anaconda3\\envs\\tensor_gpu\\lib\\site-packages (from tensorflow-gpu==2.9.1) (1.16.0)\n",
      "Collecting libclang>=13.0.0\n",
      "  Using cached libclang-14.0.1-py2.py3-none-win_amd64.whl (14.2 MB)\n",
      "Requirement already satisfied: numpy>=1.20 in c:\\users\\tedjo\\anaconda3\\envs\\tensor_gpu\\lib\\site-packages (from tensorflow-gpu==2.9.1) (1.21.5)\n",
      "Collecting flatbuffers<2,>=1.12\n",
      "  Using cached flatbuffers-1.12-py2.py3-none-any.whl (15 kB)\n",
      "Requirement already satisfied: wrapt>=1.11.0 in c:\\users\\tedjo\\anaconda3\\envs\\tensor_gpu\\lib\\site-packages (from tensorflow-gpu==2.9.1) (1.12.1)\n",
      "Requirement already satisfied: astunparse>=1.6.0 in c:\\users\\tedjo\\anaconda3\\envs\\tensor_gpu\\lib\\site-packages (from tensorflow-gpu==2.9.1) (1.6.3)\n",
      "Requirement already satisfied: opt-einsum>=2.3.2 in c:\\users\\tedjo\\anaconda3\\envs\\tensor_gpu\\lib\\site-packages (from tensorflow-gpu==2.9.1) (3.3.0)\n",
      "Requirement already satisfied: protobuf<3.20,>=3.9.2 in c:\\users\\tedjo\\anaconda3\\envs\\tensor_gpu\\lib\\site-packages (from tensorflow-gpu==2.9.1) (3.19.1)\n",
      "Requirement already satisfied: setuptools in c:\\users\\tedjo\\anaconda3\\envs\\tensor_gpu\\lib\\site-packages (from tensorflow-gpu==2.9.1) (61.2.0)\n",
      "Requirement already satisfied: termcolor>=1.1.0 in c:\\users\\tedjo\\anaconda3\\envs\\tensor_gpu\\lib\\site-packages (from tensorflow-gpu==2.9.1) (1.1.0)\n",
      "Collecting tensorflow-estimator<2.10.0,>=2.9.0rc0\n",
      "  Using cached tensorflow_estimator-2.9.0-py2.py3-none-any.whl (438 kB)\n",
      "Collecting tensorboard<2.10,>=2.9\n",
      "  Using cached tensorboard-2.9.0-py3-none-any.whl (5.8 MB)\n",
      "Requirement already satisfied: h5py>=2.9.0 in c:\\users\\tedjo\\anaconda3\\envs\\tensor_gpu\\lib\\site-packages (from tensorflow-gpu==2.9.1) (2.10.0)\n",
      "Requirement already satisfied: keras-preprocessing>=1.1.1 in c:\\users\\tedjo\\anaconda3\\envs\\tensor_gpu\\lib\\site-packages (from tensorflow-gpu==2.9.1) (1.1.2)\n",
      "Collecting absl-py>=1.0.0\n",
      "  Using cached absl_py-1.0.0-py3-none-any.whl (126 kB)\n",
      "Requirement already satisfied: grpcio<2.0,>=1.24.3 in c:\\users\\tedjo\\anaconda3\\envs\\tensor_gpu\\lib\\site-packages (from tensorflow-gpu==2.9.1) (1.42.0)\n",
      "Collecting tensorflow-io-gcs-filesystem>=0.23.1\n",
      "  Downloading tensorflow_io_gcs_filesystem-0.26.0-cp38-cp38-win_amd64.whl (1.5 MB)\n",
      "Collecting keras<2.10.0,>=2.9.0rc0\n",
      "  Using cached keras-2.9.0-py2.py3-none-any.whl (1.6 MB)\n",
      "Requirement already satisfied: wheel<1.0,>=0.23.0 in c:\\users\\tedjo\\anaconda3\\envs\\tensor_gpu\\lib\\site-packages (from astunparse>=1.6.0->tensorflow-gpu==2.9.1) (0.37.1)\n",
      "Requirement already satisfied: tensorboard-plugin-wit>=1.6.0 in c:\\users\\tedjo\\anaconda3\\envs\\tensor_gpu\\lib\\site-packages (from tensorboard<2.10,>=2.9->tensorflow-gpu==2.9.1) (1.6.0)\n",
      "Requirement already satisfied: google-auth-oauthlib<0.5,>=0.4.1 in c:\\users\\tedjo\\anaconda3\\envs\\tensor_gpu\\lib\\site-packages (from tensorboard<2.10,>=2.9->tensorflow-gpu==2.9.1) (0.4.4)\n",
      "Requirement already satisfied: werkzeug>=1.0.1 in c:\\users\\tedjo\\anaconda3\\envs\\tensor_gpu\\lib\\site-packages (from tensorboard<2.10,>=2.9->tensorflow-gpu==2.9.1) (2.0.3)\n",
      "Collecting tensorboard-data-server<0.7.0,>=0.6.0\n",
      "  Using cached tensorboard_data_server-0.6.1-py3-none-any.whl (2.4 kB)\n",
      "Requirement already satisfied: markdown>=2.6.8 in c:\\users\\tedjo\\anaconda3\\envs\\tensor_gpu\\lib\\site-packages (from tensorboard<2.10,>=2.9->tensorflow-gpu==2.9.1) (3.3.4)\n",
      "Requirement already satisfied: requests<3,>=2.21.0 in c:\\users\\tedjo\\anaconda3\\envs\\tensor_gpu\\lib\\site-packages (from tensorboard<2.10,>=2.9->tensorflow-gpu==2.9.1) (2.27.1)\n",
      "Requirement already satisfied: google-auth<3,>=1.6.3 in c:\\users\\tedjo\\anaconda3\\envs\\tensor_gpu\\lib\\site-packages (from tensorboard<2.10,>=2.9->tensorflow-gpu==2.9.1) (1.33.0)\n",
      "Requirement already satisfied: rsa<5,>=3.1.4 in c:\\users\\tedjo\\anaconda3\\envs\\tensor_gpu\\lib\\site-packages (from google-auth<3,>=1.6.3->tensorboard<2.10,>=2.9->tensorflow-gpu==2.9.1) (4.7.2)\n",
      "Requirement already satisfied: cachetools<5.0,>=2.0.0 in c:\\users\\tedjo\\anaconda3\\envs\\tensor_gpu\\lib\\site-packages (from google-auth<3,>=1.6.3->tensorboard<2.10,>=2.9->tensorflow-gpu==2.9.1) (4.2.2)\n",
      "Requirement already satisfied: pyasn1-modules>=0.2.1 in c:\\users\\tedjo\\anaconda3\\envs\\tensor_gpu\\lib\\site-packages (from google-auth<3,>=1.6.3->tensorboard<2.10,>=2.9->tensorflow-gpu==2.9.1) (0.2.8)\n",
      "Requirement already satisfied: requests-oauthlib>=0.7.0 in c:\\users\\tedjo\\anaconda3\\envs\\tensor_gpu\\lib\\site-packages (from google-auth-oauthlib<0.5,>=0.4.1->tensorboard<2.10,>=2.9->tensorflow-gpu==2.9.1) (1.3.0)\n",
      "Requirement already satisfied: pyasn1<0.5.0,>=0.4.6 in c:\\users\\tedjo\\anaconda3\\envs\\tensor_gpu\\lib\\site-packages (from pyasn1-modules>=0.2.1->google-auth<3,>=1.6.3->tensorboard<2.10,>=2.9->tensorflow-gpu==2.9.1) (0.4.8)\n",
      "Requirement already satisfied: urllib3<1.27,>=1.21.1 in c:\\users\\tedjo\\anaconda3\\envs\\tensor_gpu\\lib\\site-packages (from requests<3,>=2.21.0->tensorboard<2.10,>=2.9->tensorflow-gpu==2.9.1) (1.26.9)\n",
      "Requirement already satisfied: charset-normalizer~=2.0.0 in c:\\users\\tedjo\\anaconda3\\envs\\tensor_gpu\\lib\\site-packages (from requests<3,>=2.21.0->tensorboard<2.10,>=2.9->tensorflow-gpu==2.9.1) (2.0.4)\n",
      "Requirement already satisfied: certifi>=2017.4.17 in c:\\users\\tedjo\\anaconda3\\envs\\tensor_gpu\\lib\\site-packages (from requests<3,>=2.21.0->tensorboard<2.10,>=2.9->tensorflow-gpu==2.9.1) (2021.10.8)\n",
      "Requirement already satisfied: idna<4,>=2.5 in c:\\users\\tedjo\\anaconda3\\envs\\tensor_gpu\\lib\\site-packages (from requests<3,>=2.21.0->tensorboard<2.10,>=2.9->tensorflow-gpu==2.9.1) (3.3)\n",
      "Requirement already satisfied: oauthlib>=3.0.0 in c:\\users\\tedjo\\anaconda3\\envs\\tensor_gpu\\lib\\site-packages (from requests-oauthlib>=0.7.0->google-auth-oauthlib<0.5,>=0.4.1->tensorboard<2.10,>=2.9->tensorflow-gpu==2.9.1) (3.2.0)\n",
      "Requirement already satisfied: pyparsing!=3.0.5,>=2.0.2 in c:\\users\\tedjo\\anaconda3\\envs\\tensor_gpu\\lib\\site-packages (from packaging->tensorflow-gpu==2.9.1) (3.0.4)\n",
      "Installing collected packages: tensorboard-data-server, absl-py, tensorflow-io-gcs-filesystem, tensorflow-estimator, tensorboard, libclang, keras, flatbuffers, tensorflow-gpu\n",
      "  Attempting uninstall: absl-py\n",
      "    Found existing installation: absl-py 0.15.0\n",
      "    Uninstalling absl-py-0.15.0:\n",
      "      Successfully uninstalled absl-py-0.15.0\n",
      "  Attempting uninstall: tensorflow-estimator\n",
      "    Found existing installation: tensorflow-estimator 2.6.0\n",
      "    Uninstalling tensorflow-estimator-2.6.0:\n",
      "      Successfully uninstalled tensorflow-estimator-2.6.0\n",
      "  Attempting uninstall: tensorboard\n",
      "    Found existing installation: tensorboard 2.4.0\n",
      "    Uninstalling tensorboard-2.4.0:\n",
      "      Successfully uninstalled tensorboard-2.4.0\n",
      "Successfully installed absl-py-1.0.0 flatbuffers-1.12 keras-2.9.0 libclang-14.0.1 tensorboard-2.9.0 tensorboard-data-server-0.6.1 tensorflow-estimator-2.9.0 tensorflow-gpu-2.9.1 tensorflow-io-gcs-filesystem-0.26.0\n",
      "Note: you may need to restart the kernel to use updated packages.\n"
     ]
    },
    {
     "name": "stderr",
     "output_type": "stream",
     "text": [
      "ERROR: pip's dependency resolver does not currently take into account all the packages that are installed. This behaviour is the source of the following dependency conflicts.\n",
      "tensorflow 2.3.0 requires gast==0.3.3, but you have gast 0.4.0 which is incompatible.\n",
      "tensorflow 2.3.0 requires numpy<1.19.0,>=1.16.0, but you have numpy 1.21.5 which is incompatible.\n",
      "tensorflow 2.3.0 requires scipy==1.4.1, but you have scipy 1.7.3 which is incompatible.\n",
      "tensorflow 2.3.0 requires tensorflow-estimator<2.4.0,>=2.3.0, but you have tensorflow-estimator 2.9.0 which is incompatible.\n"
     ]
    }
   ],
   "source": [
    "pip install tensorflow-gpu==2.9.1\n"
   ]
  },
  {
   "cell_type": "code",
   "execution_count": 14,
   "metadata": {},
   "outputs": [
    {
     "name": "stdout",
     "output_type": "stream",
     "text": [
      "2.3.0\n",
      "[PhysicalDevice(name='/physical_device:CPU:0', device_type='CPU')]\n"
     ]
    }
   ],
   "source": [
    "import tensorflow as tf\n",
    "print(tf.__version__)\n",
    "print(tf.config.list_physical_devices())"
   ]
  },
  {
   "cell_type": "code",
   "execution_count": null,
   "metadata": {},
   "outputs": [],
   "source": [
    "#Converting the images to a matrix\n",
    "def imgtonp(path, list_of_filename,size = (64,64)):\n",
    "    #Iterating through each file\n",
    "    for fn in list_of_filename:\n",
    "        fp = path + fn\n",
    "        current_image = image.load_img(fp, target_size=size)\n",
    "    #Converting the image to a matrix\n",
    "        image_to_matrix = image.img_to_array(current_image)#Convert image to matrix\n",
    "    #Convert into a vector\n",
    "        image_to_matrix= [image_to_matrix.ravel()]\n",
    "        try:\n",
    "            #concatenate through the various images\n",
    "            img_mat = np.concatenate((img_mat, image_to_matrix))\n",
    "        except UnboundLocalError:\n",
    "            img_mat = image_to_matrix\n",
    "    return img_mat"
   ]
  },
  {
   "cell_type": "code",
   "execution_count": null,
   "metadata": {},
   "outputs": [],
   "source": [
    "def average_img(img_mat,title):\n",
    "    #Average the image\n",
    "    img_mat = np.mean(img_mat,axis=0)\n",
    "    #Reshape the image\n",
    "    img_mat = img_mat.reshape(64,64,3)\n",
    "    #Plot the image\n",
    "    plt.imshow(img_mat,vmin=0,vmax=255,cmap='gray')\n",
    "    plt.title(f'Average {title}')\n",
    "    plt.show()\n",
    "    return img_mat"
   ]
  },
  {
   "cell_type": "code",
   "execution_count": null,
   "metadata": {},
   "outputs": [],
   "source": [
    "#After splitting the images into separate folders plotting a histogram of the images in the folders will help identify imbalance in the classes\n",
    "#First is creating a dictionary to store the number of images in each folder\n",
    "#Import the data from the train folder\n",
    "train_path = \"C:/Users/tedjo/Downloads/XRAY/SplitData/train\"\n",
    "Xray_classes = {'covid19_img': len(os.listdir(f'{train_path}/COVID')),\n",
    "                'normal_img': len(os.listdir(f'{train_path}/NORMAL')),\n",
    "                'pneumo_img': len(os.listdir(f'{train_path}/PNEUMONIA'))}\n",
    "\n",
    "#Plotting the histogram of the images in the folders\n",
    "plt.bar(Xray_classes.keys(), Xray_classes.values(),color=['red','green','blue'])\n",
    "plt.title('Count of images in each train class')\n",
    "plt.xlabel('Class')\n",
    "plt.ylabel('Count')\n",
    "#The use of a for loop to iterate through the folders and count the number of images in each folder\n",
    "for key, value in Xray_classes.items():\n",
    "    plt.text(key, value, value)"
   ]
  },
  {
   "cell_type": "code",
   "execution_count": null,
   "metadata": {},
   "outputs": [],
   "source": [
    "#Import the data from the train folder\n",
    "train_path = \"C:/Users/tedjo/Downloads/XRAY/SplitData/train\"\n",
    "\n",
    "#Create a list of all the images in the train folder\n",
    "covid19_img = [fn for fn in os.listdir(f'{train_path}/COVID') if fn.endswith('.jpg')]\n",
    "normal_img = [fn for fn in os.listdir(f'{train_path}/NORMAL') if fn.endswith('.jpg')]\n",
    "pneumo_img = [fn for fn in os.listdir(f'{train_path}/PNEUMONIA') if fn.endswith('.jpg')]\n",
    "\n",
    "#Select 3 random images from each class to display from the train folder\n",
    "covid_img = np.random.choice(covid19_img, 3, replace = False)\n",
    "normal_img = np.random.choice(normal_img, 3, replace = False)\n",
    "pneumo_img = np.random.choice(pneumo_img, 3, replace = False)\n",
    "\n",
    "#PLot a matrix of the images\n",
    "fig = plt.figure(figsize=(10,10))\n",
    "for i in range(9):\n",
    "    if i < 3: \n",
    "        fp = f'{train_path}/COVID/{covid_img[i]}'\n",
    "        label = 'COVID19'\n",
    "    elif i>=3 and i<6:\n",
    "        fp = f'{train_path}/NORMAL/{normal_img[i-3]}'\n",
    "        label = 'NORMAL'\n",
    "    else:\n",
    "        fp = f'{train_path}/PNEUMONIA/{pneumo_img[i-6]}'\n",
    "        label = 'PNEUMONIA'\n",
    "    ax = fig.add_subplot(3,3,i+1)\n",
    "    \n",
    "    #Load the image\n",
    "    fn = image.load_img(fp, target_size=(224,224), color_mode='grayscale')\n",
    "    plt.imshow(fn,cmap='Greys_r')\n",
    "    plt.title(label)\n",
    "    plt.axis('off')\n",
    "plt.show()\n",
    "\n",
    "\n"
   ]
  },
  {
   "cell_type": "code",
   "execution_count": null,
   "metadata": {},
   "outputs": [],
   "source": [
    "#Convert train images to a matrix\n",
    "train_covid19_images = imgtonp(f'{train_path}/COVID/', covid_img)\n",
    "train_normal_images = imgtonp(f'{train_path}/NORMAL/', normal_img)\n",
    "train_pneumo_images = imgtonp(f'{train_path}/PNEUMONIA/', pneumo_img)"
   ]
  },
  {
   "cell_type": "code",
   "execution_count": null,
   "metadata": {},
   "outputs": [],
   "source": [
    "covid_average = average_img(train_covid19_images, 'COVID19')\n",
    "normal_average = average_img(train_normal_images, 'NORMAL')\n",
    "pneumo_average = average_img(train_pneumo_images, 'PNEUMONIA')"
   ]
  },
  {
   "cell_type": "code",
   "execution_count": null,
   "metadata": {},
   "outputs": [],
   "source": [
    "test_path = \"C:/Users/tedjo/Downloads/XRAY/SplitData/test\"\n",
    "Xray_classes = {'covid19_img': len(os.listdir(f'{test_path}/COVID')),\n",
    "                'normal_img': len(os.listdir(f'{test_path}/NORMAL')),\n",
    "                'pneumo_img': len(os.listdir(f'{test_path}/PNEUMONIA'))}\n",
    "\n",
    "#Plotting the histogram of the images in the folders\n",
    "plt.bar(Xray_classes.keys(), Xray_classes.values(),color=['red','green','blue'])\n",
    "plt.title('Count of images in each test class')\n",
    "plt.xlabel('Class')\n",
    "plt.ylabel('Count')\n",
    "#The use of a for loop to iterate through the folders and count the number of images in each folder\n",
    "for key, value in Xray_classes.items():\n",
    "    plt.text(key, value, value)\n"
   ]
  },
  {
   "cell_type": "code",
   "execution_count": null,
   "metadata": {},
   "outputs": [],
   "source": [
    "# sourcery skip: remove-redundant-if\n",
    "test_path = \"C:/Users/tedjo/Downloads/XRAY/SplitData/test\"\n",
    "\n",
    "#Create a list of all the images in the test folder\n",
    "covid19_img = [fn for fn in os.listdir(f'{test_path}/COVID') if fn.endswith('.jpg')]\n",
    "normal_img = [fn for fn in os.listdir(f'{test_path}/NORMAL') if fn.endswith('.jpg')]\n",
    "pneumo_img = [fn for fn in os.listdir(f'{test_path}/PNEUMONIA') if fn.endswith('.jpg')]\n",
    "\n",
    "#Select 3 random images from each class to display from the test folder\n",
    "covid_img = np.random.choice(covid19_img, 3, replace = False)\n",
    "normal_img = np.random.choice(normal_img, 3, replace = False)\n",
    "pneumo_img = np.random.choice(pneumo_img, 3, replace = False)\n",
    "\n",
    "#PLot a matrix of the images\n",
    "fig = plt.figure(figsize=(10,10))\n",
    "for i in range(9):\n",
    "    if i <3:\n",
    "        fp = f'{test_path}/COVID/{covid_img[i]}'\n",
    "        label = 'COVID19'\n",
    "    elif i>=3 and i<6:\n",
    "        fp = f'{test_path}/NORMAL/{normal_img[i-3]}'\n",
    "        label = 'NORMAL'\n",
    "    else:\n",
    "        fp = f'{test_path}/PNEUMONIA/{pneumo_img[i-6]}'\n",
    "        label = 'PNEUMONIA'\n",
    "    ax = fig.add_subplot(3,3,i+1)\n",
    "\n",
    "    #load the image\n",
    "    fn = image.load_img(fp, target_size=(224,224), color_mode='grayscale')\n",
    "    plt.imshow(fn,cmap='Greys_r')\n",
    "    plt.title(label)\n",
    "    plt.axis('off')\n",
    "plt.show()\n",
    "\n",
    "        "
   ]
  },
  {
   "cell_type": "code",
   "execution_count": null,
   "metadata": {},
   "outputs": [],
   "source": [
    "test_covid_images = imgtonp(f'{test_path}/COVID/', covid_img)\n",
    "test_normal_images = imgtonp(f'{test_path}/NORMAL/', normal_img)\n",
    "test_pneumo_images = imgtonp(f'{test_path}/PNEUMONIA/', pneumo_img)"
   ]
  },
  {
   "cell_type": "code",
   "execution_count": null,
   "metadata": {},
   "outputs": [],
   "source": [
    "val_path = \"C:/Users/tedjo/Downloads/XRAY/SplitData/val\"\n",
    "Xray_classes = {'covid19_img': len(os.listdir(f'{val_path}/COVID')),\n",
    "                'normal_img': len(os.listdir(f'{val_path}/NORMAL')),\n",
    "                'pneumo_img': len(os.listdir(f'{val_path}/PNEUMONIA'))}\n",
    "\n",
    "plt.bar(Xray_classes.keys(), Xray_classes.values(),color=['red','green','blue'])\n",
    "plt.title('Count of images in each val class')\n",
    "plt.xlabel('Class')\n",
    "plt.ylabel('Count')\n",
    "#The use of a for loop to iterate through the folders and count the number of images in each folder\n",
    "for key, value in Xray_classes.items():\n",
    "    plt.text(key, value, value)"
   ]
  },
  {
   "cell_type": "code",
   "execution_count": null,
   "metadata": {},
   "outputs": [],
   "source": [
    "# sourcery skip: remove-redundant-if\n",
    "val_path = \"C:/Users/tedjo/Downloads/XRAY/SplitData/val\"\n",
    "covid19_img = [fn for fn in os.listdir(f'{val_path}/COVID') if fn.endswith('.jpg')]\n",
    "normal_img = [fn for fn in os.listdir(f'{val_path}/NORMAL') if fn.endswith('.jpg')]\n",
    "pneumo_img = [fn for fn in os.listdir(f'{val_path}/PNEUMONIA') if fn.endswith('.jpg')]\n",
    "\n",
    "covid_img = np.random.choice(covid19_img, 3, replace = False)\n",
    "normal_img = np.random.choice(normal_img, 3, replace = False)\n",
    "pneumo_img = np.random.choice(pneumo_img, 3, replace = False)\n",
    "\n",
    "fig = plt.figure(figsize=(10,10))\n",
    "for i in range(9):\n",
    "    if i < 3:\n",
    "        fp = f'{val_path}/COVID/{covid_img[i]}'\n",
    "        label = 'COVID19'\n",
    "    elif i>=3 and i<6:\n",
    "        fp = f'{val_path}/NORMAL/{normal_img[i-3]}'\n",
    "        label = 'NORMAL'\n",
    "    else:\n",
    "        fp = f'{val_path}/PNEUMONIA/{pneumo_img[i-6]}'\n",
    "        label = 'PNEUMONIA'\n",
    "    ax  = fig.add_subplot(3,3,i+1)\n",
    "    fn = image.load_img(fp, target_size=(224,224), color_mode='grayscale')\n",
    "    plt.imshow(fn,cmap='Greys_r')\n",
    "    plt.title(label)\n",
    "    plt.axis('off')\n",
    "plt.show()\n",
    "\n"
   ]
  },
  {
   "cell_type": "code",
   "execution_count": null,
   "metadata": {},
   "outputs": [],
   "source": [
    "val_covid_images = imgtonp(f'{val_path}/COVID/', covid_img)\n",
    "val_normal_images = imgtonp(f'{val_path}/NORMAL/', normal_img)\n",
    "val_pneumo_images = imgtonp(f'{val_path}/PNEUMONIA/', pneumo_img)"
   ]
  },
  {
   "cell_type": "code",
   "execution_count": null,
   "metadata": {},
   "outputs": [],
   "source": [
    "from sklearn.decomposition import PCA\n",
    "from math import ceil\n",
    "\n",
    "def eigenimages(img_mat,title,n_comp=0.7,size=(64,64,3)):\n",
    "    pca = PCA(n_components=n_comp,whiten=True)\n",
    "    pca.fit(img_mat)\n",
    "    print('Number of PC: ',pca.n_components_)\n",
    "    return pca\n",
    "def plot_pca(pca,size=(64,64,3)):\n",
    "    n = pca.n_components_\n",
    "    fig = plt.figure(figsize=(10,10))\n",
    "    r = int(n**0.5)\n",
    "    c = ceil(n/r)\n",
    "    for i in range(n):\n",
    "        ax = fig.add_subplot(r,c,i+1,xticks=[],yticks=[])\n",
    "        ax.imshow(pca.components_[i].reshape(size),cmap='Greys_r')\n",
    "    plt.axis('off')\n",
    "    plt.show()"
   ]
  },
  {
   "cell_type": "code",
   "execution_count": null,
   "metadata": {},
   "outputs": [],
   "source": [
    "plot_pca(eigenimages(train_covid19_images,'COVID'))\n",
    "plot_pca(eigenimages(train_normal_images,'NORMAL'))\n",
    "plot_pca(eigenimages(train_pneumo_images,'PNEUMONIA'))\n",
    "plot_pca(eigenimages(test_covid_images,'COVID'))"
   ]
  }
 ],
 "metadata": {
  "interpreter": {
   "hash": "96b2eb5dca19ff3a7265c3bde99fee8ef2b3e674dd68fdad94fb80965a0d3477"
  },
  "kernelspec": {
   "display_name": "Python 3.8.13 ('tensor_gpu')",
   "language": "python",
   "name": "python3"
  },
  "language_info": {
   "codemirror_mode": {
    "name": "ipython",
    "version": 3
   },
   "file_extension": ".py",
   "mimetype": "text/x-python",
   "name": "python",
   "nbconvert_exporter": "python",
   "pygments_lexer": "ipython3",
   "version": "3.8.13"
  },
  "orig_nbformat": 4
 },
 "nbformat": 4,
 "nbformat_minor": 2
}
